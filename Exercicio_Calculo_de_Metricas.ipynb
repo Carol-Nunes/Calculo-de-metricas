{
  "nbformat": 4,
  "nbformat_minor": 0,
  "metadata": {
    "colab": {
      "provenance": [],
      "authorship_tag": "ABX9TyNlNEislGjsM9njJFjuQmFX",
      "include_colab_link": true
    },
    "kernelspec": {
      "name": "python3",
      "display_name": "Python 3"
    },
    "language_info": {
      "name": "python"
    }
  },
  "cells": [
    {
      "cell_type": "markdown",
      "metadata": {
        "id": "view-in-github",
        "colab_type": "text"
      },
      "source": [
        "<a href=\"https://colab.research.google.com/github/Carol-Nunes/Calculo-de-metricas/blob/main/Exercicio_Calculo_de_Metricas.ipynb\" target=\"_parent\"><img src=\"https://colab.research.google.com/assets/colab-badge.svg\" alt=\"Open In Colab\"/></a>"
      ]
    },
    {
      "cell_type": "markdown",
      "source": [
        "# Matriz de Confusão"
      ],
      "metadata": {
        "id": "OewTBlsNuxhL"
      }
    },
    {
      "cell_type": "code",
      "execution_count": null,
      "metadata": {
        "colab": {
          "base_uri": "https://localhost:8080/",
          "height": 522
        },
        "id": "PFw5n7ZTufaA",
        "outputId": "ad557854-b091-4b9d-a1fd-3ce30fe28573"
      },
      "outputs": [
        {
          "output_type": "stream",
          "name": "stdout",
          "text": [
            "[[3 0]\n",
            " [2 4]]\n"
          ]
        },
        {
          "output_type": "execute_result",
          "data": {
            "text/plain": [
              "<Axes: title={'center': 'Confusion Matrix'}>"
            ]
          },
          "metadata": {},
          "execution_count": 104
        },
        {
          "output_type": "display_data",
          "data": {
            "text/plain": [
              "<Figure size 1000x500 with 2 Axes>"
            ],
            "image/png": "[encoded data removed]"
          },
          "metadata": {}
        }
      ],
      "source": [
        "# Criando a matriz de confusão arbitrária e plotando ela.\n",
        "\n",
        "from sklearn.metrics import confusion_matrix\n",
        "import matplotlib.pyplot as plt\n",
        "import seaborn as sns\n",
        "\n",
        "x_true = [1, 0, 1, 1, 0, 1, 0, 1, 1]\n",
        "x_pred = [0, 0, 1, 1, 0, 1, 0, 1, 0]\n",
        "\n",
        "cnf_mtx = confusion_matrix(x_true, x_pred)\n",
        "print(cnf_mtx)\n",
        "\n",
        "plt.figure(figsize = (10, 5))\n",
        "plt.title('Confusion Matrix')\n",
        "sns.heatmap(cnf_mtx, annot = True, cmap = 'pink')\n"
      ]
    },
    {
      "cell_type": "code",
      "source": [
        "# Extração dos valores de True Positive (tp), True Negative (tn), False Positive (fp) e False Negative (fn) a partir da matriz de confusão.\n",
        "\n",
        "tp = cnf_mtx[0][0]\n",
        "tn = cnf_mtx[1][1]\n",
        "fp = cnf_mtx[0][1]\n",
        "fn = cnf_mtx[1][0]"
      ],
      "metadata": {
        "id": "svuWRTFy87El"
      },
      "execution_count": null,
      "outputs": []
    },
    {
      "cell_type": "markdown",
      "source": [
        "# Acurácia"
      ],
      "metadata": {
        "id": "WruLjEnwy4cX"
      }
    },
    {
      "cell_type": "code",
      "source": [
        "accuracy = (tp + tn) / (tp + tn + fp + fn)\n",
        "print(f'Acurácia: {accuracy}')\n",
        "\n"
      ],
      "metadata": {
        "colab": {
          "base_uri": "https://localhost:8080/"
        },
        "id": "4fmUf0W0v74V",
        "outputId": "8c76183c-084f-4b45-b78e-d2f4322ba47d"
      },
      "execution_count": null,
      "outputs": [
        {
          "output_type": "stream",
          "name": "stdout",
          "text": [
            "Acurácia: 0.7777777777777778\n"
          ]
        }
      ]
    },
    {
      "cell_type": "markdown",
      "source": [
        "# Recall"
      ],
      "metadata": {
        "id": "FWSMng0m8pef"
      }
    },
    {
      "cell_type": "code",
      "source": [
        "recall = tp / (tp + fn)\n",
        "print(f'Recall: {recall}')\n"
      ],
      "metadata": {
        "colab": {
          "base_uri": "https://localhost:8080/"
        },
        "id": "kVxyFAZE8x7_",
        "outputId": "c1176f8e-cb6a-4e3a-b475-dcb52ad4ecf4"
      },
      "execution_count": null,
      "outputs": [
        {
          "output_type": "stream",
          "name": "stdout",
          "text": [
            "Recall: 0.6\n"
          ]
        }
      ]
    },
    {
      "cell_type": "markdown",
      "source": [
        "# Especificidade"
      ],
      "metadata": {
        "id": "Al4gfvIG9iRg"
      }
    },
    {
      "cell_type": "code",
      "source": [
        "especificidade = tn / (fp + tn)\n",
        "print(f'Especificidade: {especificidade}')"
      ],
      "metadata": {
        "colab": {
          "base_uri": "https://localhost:8080/"
        },
        "id": "0fUJ9Mt99ob9",
        "outputId": "a7d11872-07fa-4173-a05b-77248d214b74"
      },
      "execution_count": null,
      "outputs": [
        {
          "output_type": "stream",
          "name": "stdout",
          "text": [
            "Especificidade: 1.0\n"
          ]
        }
      ]
    },
    {
      "cell_type": "markdown",
      "source": [
        "# Precisão"
      ],
      "metadata": {
        "id": "-G7s3U2W94Ex"
      }
    },
    {
      "cell_type": "code",
      "source": [
        "precisao = tp / (tp + fp)\n",
        "print(f'Precisão: {precisao}')"
      ],
      "metadata": {
        "colab": {
          "base_uri": "https://localhost:8080/"
        },
        "id": "RXfjlzLZ92wA",
        "outputId": "a1e2908f-8f6e-4ec3-dad1-318be7a3da12"
      },
      "execution_count": null,
      "outputs": [
        {
          "output_type": "stream",
          "name": "stdout",
          "text": [
            "Precisão: 1.0\n"
          ]
        }
      ]
    },
    {
      "cell_type": "markdown",
      "source": [
        "# F-score"
      ],
      "metadata": {
        "id": "ehLyb-DC-HG5"
      }
    },
    {
      "cell_type": "code",
      "source": [
        "f_score = (2 * precisao * recall) / (precisao + recall)\n",
        "print(f'F-score: {f_score}')"
      ],
      "metadata": {
        "colab": {
          "base_uri": "https://localhost:8080/"
        },
        "id": "--9zNIZy-CaI",
        "outputId": "0f7f2472-ee10-48ba-f38a-bfdb93b3baf5"
      },
      "execution_count": null,
      "outputs": [
        {
          "output_type": "stream",
          "name": "stdout",
          "text": [
            "F-score: 0.7499999999999999\n"
          ]
        }
      ]
    },
    {
      "cell_type": "markdown",
      "source": [
        "# Curva ROC"
      ],
      "metadata": {
        "id": "mQ3Y3Nzc_Xdh"
      }
    },
    {
      "cell_type": "code",
      "source": [
        "# Criação da máquina preditiva\n",
        "\n",
        "from sklearn.linear_model import LogisticRegression\n",
        "from sklearn.neighbors import KNeighborsClassifier\n",
        "\n",
        "# Logistic Regression\n",
        "logreg = LogisticRegression()\n",
        "logreg.fit([[x] for x in range(len(x_true))], x_true) # Treinando o modelo em um dataset criado nesse momento.\n",
        "y_pred_logreg = logreg.predict_proba([[x] for x in range(len(x_true))])[:, 1] # Calculando a probabilidade de um conjunto de dados determinado nesse momento.\n",
        "\n",
        "# KNN\n",
        "knn = KNeighborsClassifier(n_neighbors = 3)\n",
        "knn.fit([[x] for x in range(len(x_true))], x_true)\n",
        "y_pred_knn = knn.predict_proba([[x] for x in range(len(x_true))])[:, 1]"
      ],
      "metadata": {
        "id": "R5nAR_k_IcRQ"
      },
      "execution_count": null,
      "outputs": []
    },
    {
      "cell_type": "code",
      "source": [
        "# Avaliação da máquina\n",
        "\n",
        "from sklearn.metrics import roc_curve\n",
        "\n",
        "# Calculando os componentes da curva ROC\n",
        "\n",
        "fpr_logreg, tpr_logreg, thresholds_logreg = roc_curve(x_true, y_pred_logreg)\n",
        "fpr_knn, tpr_knn, thresholds_knn = roc_curve(x_true, y_pred_knn)\n"
      ],
      "metadata": {
        "id": "ZbxBioWcQ6uA"
      },
      "execution_count": null,
      "outputs": []
    },
    {
      "cell_type": "code",
      "source": [
        "# Calcular o AUC (Área sob a Curva)\n",
        "\n",
        "from sklearn.metrics import roc_auc_score\n",
        "\n",
        "auc_logreg = roc_auc_score(x_true, y_pred_logreg)\n",
        "auc_knn = roc_auc_score(x_true, y_pred_knn)\n",
        "\n"
      ],
      "metadata": {
        "id": "t9aSni_vSM9f"
      },
      "execution_count": null,
      "outputs": []
    },
    {
      "cell_type": "code",
      "source": [
        "# Plotando a curva ROC\n",
        "\n",
        "plt.figure(figsize = (10, 5))\n",
        "plt.plot(fpr_logreg, tpr_logreg, linestyle = '--', color = 'blue', label = 'Logistic Regression - AUC: %0.2f' % auc_logreg)\n",
        "plt.plot(fpr_knn, tpr_knn, linestyle = '--', color = 'red', label = 'KNN - AUC: %0.2f' % auc_knn)\n",
        "plt.title('ROC Curve')\n",
        "plt.xlabel('FPR')\n",
        "plt.ylabel('TPR')\n",
        "plt.legend(loc='best')\n",
        "plt.show()\n"
      ],
      "metadata": {
        "colab": {
          "base_uri": "https://localhost:8080/",
          "height": 487
        },
        "id": "kZBuy5xCTAqb",
        "outputId": "88189167-abc4-4b33-82d7-376363a1898d"
      },
      "execution_count": null,
      "outputs": [
        {
          "output_type": "display_data",
          "data": {
            "text/plain": [
              "<Figure size 1000x500 with 1 Axes>"
            ],
            "image/png": "[encoded data removed]"
          },
          "metadata": {}
        }
      ]
    }
  ]
}